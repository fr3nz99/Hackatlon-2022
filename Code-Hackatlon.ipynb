{
 "cells": [
  {
   "cell_type": "code",
   "execution_count": 1,
   "id": "91e4eff7",
   "metadata": {
    "_cell_guid": "b1076dfc-b9ad-4769-8c92-a6c4dae69d19",
    "_uuid": "8f2839f25d086af736a60e9eeb907d3b93b6e0e5",
    "execution": {
     "iopub.execute_input": "2022-06-30T19:37:04.420512Z",
     "iopub.status.busy": "2022-06-30T19:37:04.419863Z",
     "iopub.status.idle": "2022-06-30T19:37:04.444027Z",
     "shell.execute_reply": "2022-06-30T19:37:04.442831Z"
    },
    "papermill": {
     "duration": 0.043251,
     "end_time": "2022-06-30T19:37:04.446883",
     "exception": false,
     "start_time": "2022-06-30T19:37:04.403632",
     "status": "completed"
    },
    "tags": []
   },
   "outputs": [
    {
     "name": "stdout",
     "output_type": "stream",
     "text": [
      "/kaggle/input/stat-learn/train.csv\n",
      "/kaggle/input/stat-learn/test.csv\n",
      "/kaggle/input/statistical-learning-sapienza-spring-2022/train.csv\n",
      "/kaggle/input/statistical-learning-sapienza-spring-2022/test.csv\n"
     ]
    }
   ],
   "source": [
    "# This Python 3 environment comes with many helpful analytics libraries installed\n",
    "# It is defined by the kaggle/python Docker image: https://github.com/kaggle/docker-python\n",
    "# For example, here's several helpful packages to load\n",
    "\n",
    "import numpy as np # linear algebra\n",
    "import pandas as pd # data processing, CSV file I/O (e.g. pd.read_csv)\n",
    "\n",
    "# Input data files are available in the read-only \"../input/\" directory\n",
    "# For example, running this (by clicking run or pressing Shift+Enter) will list all files under the input directory\n",
    "\n",
    "import os\n",
    "for dirname, _, filenames in os.walk('/kaggle/input'):\n",
    "    for filename in filenames:\n",
    "        print(os.path.join(dirname, filename))\n",
    "\n",
    "# You can write up to 20GB to the current directory (/kaggle/working/) that gets preserved as output when you create a version using \"Save & Run All\" \n",
    "# You can also write temporary files to /kaggle/temp/, but they won't be saved outside of the current session"
   ]
  },
  {
   "cell_type": "code",
   "execution_count": 2,
   "id": "ad8aa442",
   "metadata": {
    "execution": {
     "iopub.execute_input": "2022-06-30T19:37:04.465759Z",
     "iopub.status.busy": "2022-06-30T19:37:04.465407Z",
     "iopub.status.idle": "2022-06-30T19:37:06.027800Z",
     "shell.execute_reply": "2022-06-30T19:37:06.026866Z"
    },
    "papermill": {
     "duration": 1.574662,
     "end_time": "2022-06-30T19:37:06.030500",
     "exception": false,
     "start_time": "2022-06-30T19:37:04.455838",
     "status": "completed"
    },
    "tags": []
   },
   "outputs": [],
   "source": [
    "from sklearn.tree import DecisionTreeClassifier\n",
    "from sklearn.metrics import f1_score\n",
    "from sklearn.model_selection import cross_val_score \n",
    "from sklearn.model_selection import KFold\n",
    "from sklearn.preprocessing import StandardScaler\n",
    "from sklearn.pipeline import Pipeline  \n",
    "from sklearn.model_selection import GridSearchCV\n",
    "from sklearn.ensemble import HistGradientBoostingClassifier\n",
    "from matplotlib import pyplot as plt"
   ]
  },
  {
   "cell_type": "markdown",
   "id": "614f5c9d",
   "metadata": {
    "papermill": {
     "duration": 0.00833,
     "end_time": "2022-06-30T19:37:06.047565",
     "exception": false,
     "start_time": "2022-06-30T19:37:06.039235",
     "status": "completed"
    },
    "tags": []
   },
   "source": [
    "# Our Hackaton story \n",
    "\n",
    "We decided to start the project working from two opposite directions: we went for a \"simple\" route and for a \"complex\" route (Neural Networks) simultaneously.\n",
    "\n",
    "### Simple route\n",
    "\n",
    "For the \"simple\" route, we started using the easiest algorithms,in order to have a baseline performance to take as a reference. Easy algorithms also allowed us to work faster. \n",
    "\n",
    "The first algorithms we tried were KNN and SVC, with very poor performance . Then we tried decision trees, obtaining much better performance, close to the performance of the algorithms we were using in the \"complex\" route.\n",
    "\n",
    " \n",
    "\n",
    "After the decent performance of the decision trees, we tried an ensemble of decision trees, a random forest. With random forest we finally got better results than the Neural Networks. Given the success of this ensemble method, we chose to try another ensemble method: we went for Histogram-based Gradient Boosting Classification, which is our best performing algorithm, and we present it in this notebook.\n",
    "\n",
    "Gradient Boosting gives a prediction model in the form of an ensemble of weak prediction models, in our case, decision trees. It usually outperforms random forests, and this happened in this project too. We chose the Histogram-based Gradient Boosting Classifier because of its higher speed compared to the standard Gradient Boosting Classifier.\n",
    "\n"
   ]
  },
  {
   "cell_type": "markdown",
   "id": "2b4fc507",
   "metadata": {
    "papermill": {
     "duration": 0.007935,
     "end_time": "2022-06-30T19:37:06.063935",
     "exception": false,
     "start_time": "2022-06-30T19:37:06.056000",
     "status": "completed"
    },
    "tags": []
   },
   "source": [
    "### First synthetization tentatives [FAILED]\n",
    "\n",
    "We tried to do a features-synthetization in three different ways:\n",
    "\n",
    "- **The linear way**: Principal Component Analysis (PCA) \n",
    "- **The non-linear way**: KernelPCA \n",
    "- **The manual way**: A statistical synthetization of the different temporal-data (mean, variance, kurtosis, min, max quantiles)\n",
    "\n",
    "All these methods, mixed with the prevision models, gave us low F1-Score(s), therefore we decided to keep using the original dataset, transforming the categorical features in dummies features."
   ]
  },
  {
   "cell_type": "markdown",
   "id": "ac07ba81",
   "metadata": {
    "papermill": {
     "duration": 0.007847,
     "end_time": "2022-06-30T19:37:06.080060",
     "exception": false,
     "start_time": "2022-06-30T19:37:06.072213",
     "status": "completed"
    },
    "tags": []
   },
   "source": [
    "### Complex route\n",
    "\n",
    "A more complicated approach is to interpret the data as a time series. \\\n",
    "Provided that for speed, cadence, fractional cadence and altitude we have a set of 60 values, we can interpret each feature separately as a time series. \n",
    "\n",
    "To implement this sort of data we decided to use *GRU*. \\\n",
    "With GRU it is possible to partially overcome the problem of vanishing gradients for longer time series and it is faster to train than LSTM. The input dimension is (60,4) where 60 is the number of time steps and 4 the number of features. \n",
    "\n",
    "The model does not return sequences, so the inputs are feeded in the layer and the result is an encoding which will be passed to the decoder part which is simply a classification layer with 6 classes (Hearth Zones).\n",
    "\n",
    "With this approach we obtained a F1-Score of 0.665...not so bad... but not so good."
   ]
  },
  {
   "cell_type": "markdown",
   "id": "d3d8baa4",
   "metadata": {
    "papermill": {
     "duration": 0.007805,
     "end_time": "2022-06-30T19:37:06.096113",
     "exception": false,
     "start_time": "2022-06-30T19:37:06.088308",
     "status": "completed"
    },
    "tags": []
   },
   "source": [
    "# $1^{st}$ Step: Exploratory Data Analysis"
   ]
  },
  {
   "cell_type": "code",
   "execution_count": 3,
   "id": "37c65e15",
   "metadata": {
    "execution": {
     "iopub.execute_input": "2022-06-30T19:37:06.114752Z",
     "iopub.status.busy": "2022-06-30T19:37:06.113867Z",
     "iopub.status.idle": "2022-06-30T19:37:07.222697Z",
     "shell.execute_reply": "2022-06-30T19:37:07.221396Z"
    },
    "papermill": {
     "duration": 1.121174,
     "end_time": "2022-06-30T19:37:07.225582",
     "exception": false,
     "start_time": "2022-06-30T19:37:06.104408",
     "status": "completed"
    },
    "tags": []
   },
   "outputs": [
    {
     "data": {
      "text/html": [
       "<div>\n",
       "<style scoped>\n",
       "    .dataframe tbody tr th:only-of-type {\n",
       "        vertical-align: middle;\n",
       "    }\n",
       "\n",
       "    .dataframe tbody tr th {\n",
       "        vertical-align: top;\n",
       "    }\n",
       "\n",
       "    .dataframe thead th {\n",
       "        text-align: right;\n",
       "    }\n",
       "</style>\n",
       "<table border=\"1\" class=\"dataframe\">\n",
       "  <thead>\n",
       "    <tr style=\"text-align: right;\">\n",
       "      <th></th>\n",
       "      <th>id</th>\n",
       "      <th>y</th>\n",
       "      <th>from_start</th>\n",
       "      <th>month</th>\n",
       "      <th>day</th>\n",
       "      <th>sp.1</th>\n",
       "      <th>sp.2</th>\n",
       "      <th>sp.3</th>\n",
       "      <th>sp.4</th>\n",
       "      <th>sp.5</th>\n",
       "      <th>...</th>\n",
       "      <th>al.51</th>\n",
       "      <th>al.52</th>\n",
       "      <th>al.53</th>\n",
       "      <th>al.54</th>\n",
       "      <th>al.55</th>\n",
       "      <th>al.56</th>\n",
       "      <th>al.57</th>\n",
       "      <th>al.58</th>\n",
       "      <th>al.59</th>\n",
       "      <th>al.60</th>\n",
       "    </tr>\n",
       "  </thead>\n",
       "  <tbody>\n",
       "    <tr>\n",
       "      <th>0</th>\n",
       "      <td>1</td>\n",
       "      <td>Zone-3</td>\n",
       "      <td>2135</td>\n",
       "      <td>Mar</td>\n",
       "      <td>Afternoon</td>\n",
       "      <td>2.790</td>\n",
       "      <td>2.790</td>\n",
       "      <td>2.845</td>\n",
       "      <td>2.852</td>\n",
       "      <td>2.900</td>\n",
       "      <td>...</td>\n",
       "      <td>23.4</td>\n",
       "      <td>23.2</td>\n",
       "      <td>23.2</td>\n",
       "      <td>23.2</td>\n",
       "      <td>23.4</td>\n",
       "      <td>23.4</td>\n",
       "      <td>23.4</td>\n",
       "      <td>23.4</td>\n",
       "      <td>23.2</td>\n",
       "      <td>23.2</td>\n",
       "    </tr>\n",
       "    <tr>\n",
       "      <th>1</th>\n",
       "      <td>2</td>\n",
       "      <td>Zone-3</td>\n",
       "      <td>4542</td>\n",
       "      <td>Nov</td>\n",
       "      <td>Morning</td>\n",
       "      <td>2.385</td>\n",
       "      <td>2.985</td>\n",
       "      <td>2.985</td>\n",
       "      <td>2.985</td>\n",
       "      <td>3.194</td>\n",
       "      <td>...</td>\n",
       "      <td>34.2</td>\n",
       "      <td>34.2</td>\n",
       "      <td>34.2</td>\n",
       "      <td>34.2</td>\n",
       "      <td>34.0</td>\n",
       "      <td>34.0</td>\n",
       "      <td>34.0</td>\n",
       "      <td>34.0</td>\n",
       "      <td>34.0</td>\n",
       "      <td>34.0</td>\n",
       "    </tr>\n",
       "    <tr>\n",
       "      <th>2</th>\n",
       "      <td>5</td>\n",
       "      <td>Zone-3</td>\n",
       "      <td>1340</td>\n",
       "      <td>May</td>\n",
       "      <td>Afternoon</td>\n",
       "      <td>3.362</td>\n",
       "      <td>3.362</td>\n",
       "      <td>3.394</td>\n",
       "      <td>3.480</td>\n",
       "      <td>3.498</td>\n",
       "      <td>...</td>\n",
       "      <td>22.6</td>\n",
       "      <td>22.8</td>\n",
       "      <td>22.6</td>\n",
       "      <td>22.6</td>\n",
       "      <td>22.4</td>\n",
       "      <td>22.4</td>\n",
       "      <td>22.4</td>\n",
       "      <td>22.4</td>\n",
       "      <td>22.4</td>\n",
       "      <td>22.2</td>\n",
       "    </tr>\n",
       "    <tr>\n",
       "      <th>3</th>\n",
       "      <td>6</td>\n",
       "      <td>Zone-4</td>\n",
       "      <td>2768</td>\n",
       "      <td>Feb</td>\n",
       "      <td>Morning</td>\n",
       "      <td>3.700</td>\n",
       "      <td>3.700</td>\n",
       "      <td>3.707</td>\n",
       "      <td>3.736</td>\n",
       "      <td>3.732</td>\n",
       "      <td>...</td>\n",
       "      <td>17.0</td>\n",
       "      <td>17.0</td>\n",
       "      <td>17.0</td>\n",
       "      <td>17.0</td>\n",
       "      <td>16.8</td>\n",
       "      <td>16.6</td>\n",
       "      <td>16.6</td>\n",
       "      <td>16.4</td>\n",
       "      <td>16.4</td>\n",
       "      <td>16.6</td>\n",
       "    </tr>\n",
       "    <tr>\n",
       "      <th>4</th>\n",
       "      <td>7</td>\n",
       "      <td>Zone-2</td>\n",
       "      <td>1718</td>\n",
       "      <td>Dec</td>\n",
       "      <td>Afternoon</td>\n",
       "      <td>2.497</td>\n",
       "      <td>2.497</td>\n",
       "      <td>2.596</td>\n",
       "      <td>2.751</td>\n",
       "      <td>2.767</td>\n",
       "      <td>...</td>\n",
       "      <td>42.4</td>\n",
       "      <td>42.4</td>\n",
       "      <td>42.0</td>\n",
       "      <td>41.8</td>\n",
       "      <td>41.6</td>\n",
       "      <td>41.6</td>\n",
       "      <td>41.4</td>\n",
       "      <td>41.4</td>\n",
       "      <td>41.2</td>\n",
       "      <td>41.2</td>\n",
       "    </tr>\n",
       "  </tbody>\n",
       "</table>\n",
       "<p>5 rows × 245 columns</p>\n",
       "</div>"
      ],
      "text/plain": [
       "   id       y  from_start month        day   sp.1   sp.2   sp.3   sp.4   sp.5  \\\n",
       "0   1  Zone-3        2135   Mar  Afternoon  2.790  2.790  2.845  2.852  2.900   \n",
       "1   2  Zone-3        4542   Nov    Morning  2.385  2.985  2.985  2.985  3.194   \n",
       "2   5  Zone-3        1340   May  Afternoon  3.362  3.362  3.394  3.480  3.498   \n",
       "3   6  Zone-4        2768   Feb    Morning  3.700  3.700  3.707  3.736  3.732   \n",
       "4   7  Zone-2        1718   Dec  Afternoon  2.497  2.497  2.596  2.751  2.767   \n",
       "\n",
       "   ...  al.51  al.52  al.53  al.54  al.55  al.56  al.57  al.58  al.59  al.60  \n",
       "0  ...   23.4   23.2   23.2   23.2   23.4   23.4   23.4   23.4   23.2   23.2  \n",
       "1  ...   34.2   34.2   34.2   34.2   34.0   34.0   34.0   34.0   34.0   34.0  \n",
       "2  ...   22.6   22.8   22.6   22.6   22.4   22.4   22.4   22.4   22.4   22.2  \n",
       "3  ...   17.0   17.0   17.0   17.0   16.8   16.6   16.6   16.4   16.4   16.6  \n",
       "4  ...   42.4   42.4   42.0   41.8   41.6   41.6   41.4   41.4   41.2   41.2  \n",
       "\n",
       "[5 rows x 245 columns]"
      ]
     },
     "execution_count": 3,
     "metadata": {},
     "output_type": "execute_result"
    }
   ],
   "source": [
    "#dataset uploading\n",
    "train=pd.read_csv(\"/kaggle/input/statistical-learning-sapienza-spring-2022/train.csv\")\n",
    "test=pd.read_csv(\"/kaggle/input/statistical-learning-sapienza-spring-2022/test.csv\")\n",
    "train.head()"
   ]
  },
  {
   "cell_type": "markdown",
   "id": "884cf8a6",
   "metadata": {
    "papermill": {
     "duration": 0.009164,
     "end_time": "2022-06-30T19:37:07.244334",
     "exception": false,
     "start_time": "2022-06-30T19:37:07.235170",
     "status": "completed"
    },
    "tags": []
   },
   "source": [
    "First of all, let's observe the distribution of the labels"
   ]
  },
  {
   "cell_type": "code",
   "execution_count": 4,
   "id": "21ab7268",
   "metadata": {
    "execution": {
     "iopub.execute_input": "2022-06-30T19:37:07.264396Z",
     "iopub.status.busy": "2022-06-30T19:37:07.263907Z",
     "iopub.status.idle": "2022-06-30T19:37:07.512501Z",
     "shell.execute_reply": "2022-06-30T19:37:07.511169Z"
    },
    "papermill": {
     "duration": 0.262163,
     "end_time": "2022-06-30T19:37:07.515609",
     "exception": false,
     "start_time": "2022-06-30T19:37:07.253446",
     "status": "completed"
    },
    "tags": []
   },
   "outputs": [
    {
     "data": {
      "image/png": "[encoded data removed]",
      "text/plain": [
       "<Figure size 432x288 with 1 Axes>"
      ]
     },
     "metadata": {
      "needs_background": "light"
     },
     "output_type": "display_data"
    }
   ],
   "source": [
    "plt.hist(train['y'], density = True, color = 'orange')\n",
    "plt.grid( linestyle = '--', linewidth = 0.5)\n",
    "plt.title(\"Distribution of the Hearth Zones for every run\")\n",
    "plt.xlabel(\"Hearth Zones\")\n",
    "plt.ylabel(\"Frequencies\")\n",
    "\n",
    "plt.show()"
   ]
  },
  {
   "cell_type": "markdown",
   "id": "ebaf55d4",
   "metadata": {
    "papermill": {
     "duration": 0.009339,
     "end_time": "2022-06-30T19:37:07.534243",
     "exception": false,
     "start_time": "2022-06-30T19:37:07.524904",
     "status": "completed"
    },
    "tags": []
   },
   "source": [
    "Then let's see the curve of a random run for the different features (standardized) to see if there is correlation between them"
   ]
  },
  {
   "cell_type": "code",
   "execution_count": 5,
   "id": "43e9060f",
   "metadata": {
    "execution": {
     "iopub.execute_input": "2022-06-30T19:37:07.554454Z",
     "iopub.status.busy": "2022-06-30T19:37:07.554047Z",
     "iopub.status.idle": "2022-06-30T19:37:08.706302Z",
     "shell.execute_reply": "2022-06-30T19:37:08.704964Z"
    },
    "papermill": {
     "duration": 1.165529,
     "end_time": "2022-06-30T19:37:08.708936",
     "exception": false,
     "start_time": "2022-06-30T19:37:07.543407",
     "status": "completed"
    },
    "tags": []
   },
   "outputs": [
    {
     "data": {
      "image/png": "[encoded data removed]",
      "text/plain": [
       "<Figure size 432x288 with 2 Axes>"
      ]
     },
     "metadata": {
      "needs_background": "light"
     },
     "output_type": "display_data"
    }
   ],
   "source": [
    "fig, (ax1, ax2) = plt.subplots( 2)\n",
    "ax1.plot(train[train.loc[:,'y'] == 'Zone-1'].iloc[0,5:65], color = 'orchid')\n",
    "\n",
    "ax2.plot(train[train.loc[:,'y'] == 'Zone-5'].iloc[0,5:65], color = 'orange')\n",
    "\n",
    "\n",
    "fig.suptitle(\"speed in Zone-1 vs speed in Zone-5\")\n",
    "plt.show()"
   ]
  },
  {
   "cell_type": "code",
   "execution_count": 6,
   "id": "7cb64303",
   "metadata": {
    "execution": {
     "iopub.execute_input": "2022-06-30T19:37:08.730725Z",
     "iopub.status.busy": "2022-06-30T19:37:08.729720Z",
     "iopub.status.idle": "2022-06-30T19:37:09.862156Z",
     "shell.execute_reply": "2022-06-30T19:37:09.861016Z"
    },
    "papermill": {
     "duration": 1.146055,
     "end_time": "2022-06-30T19:37:09.864824",
     "exception": false,
     "start_time": "2022-06-30T19:37:08.718769",
     "status": "completed"
    },
    "tags": []
   },
   "outputs": [
    {
     "data": {
      "image/png": "[encoded data removed]",
      "text/plain": [
       "<Figure size 432x288 with 2 Axes>"
      ]
     },
     "metadata": {
      "needs_background": "light"
     },
     "output_type": "display_data"
    }
   ],
   "source": [
    "fig, (ax1, ax2) = plt.subplots( 2)\n",
    "ax1.plot(train[train.loc[:,'y'] == 'Zone-1'].iloc[3,65:125], color = 'darkgreen')\n",
    "\n",
    "ax2.plot(train[train.loc[:,'y'] == 'Zone-5'].iloc[0,65:125], color = 'brown')\n",
    "\n",
    "\n",
    "fig.suptitle(\"cadence in Zone-1 vs cadence in Zone-5\")\n",
    "plt.show()"
   ]
  },
  {
   "cell_type": "markdown",
   "id": "0302a264",
   "metadata": {
    "papermill": {
     "duration": 0.011031,
     "end_time": "2022-06-30T19:37:09.886535",
     "exception": false,
     "start_time": "2022-06-30T19:37:09.875504",
     "status": "completed"
    },
    "tags": []
   },
   "source": [
    "Here we can see the different speed and cadence in heart Zone-1 and heart Zone-5, the plots a really different in heart zone-5 the speed is higher and very irregular.\n",
    "the cadence is higher in Zone-5 but decrese probably because the prof were tired."
   ]
  },
  {
   "cell_type": "code",
   "execution_count": 7,
   "id": "09c7d8d3",
   "metadata": {
    "execution": {
     "iopub.execute_input": "2022-06-30T19:37:09.908684Z",
     "iopub.status.busy": "2022-06-30T19:37:09.908272Z",
     "iopub.status.idle": "2022-06-30T19:37:10.676737Z",
     "shell.execute_reply": "2022-06-30T19:37:10.675449Z"
    },
    "papermill": {
     "duration": 0.78278,
     "end_time": "2022-06-30T19:37:10.679453",
     "exception": false,
     "start_time": "2022-06-30T19:37:09.896673",
     "status": "completed"
    },
    "tags": []
   },
   "outputs": [
    {
     "data": {
      "image/png": "[encoded data removed]",
      "text/plain": [
       "<Figure size 432x288 with 2 Axes>"
      ]
     },
     "metadata": {
      "needs_background": "light"
     },
     "output_type": "display_data"
    }
   ],
   "source": [
    "fig, (ax1, ax2) = plt.subplots( 2)\n",
    "ax1.plot(train[train.loc[:,'y'] == 'Zone-2'].iloc[:,5:65])\n",
    "ax1.axhline(y = np.mean(np.mean(train[train.loc[:,'y'] == 'Zone-2'].iloc[:,5:65])) , color = 'r')\n",
    "\n",
    "ax2.plot(train[train.loc[:,'y'] == 'Zone-5'].iloc[:,5:65])\n",
    "ax2.axhline(y = np.mean(np.mean(train[train.loc[:,'y'] == 'Zone-5'].iloc[:,5:65])) , color = 'r')\n",
    "fig.suptitle(\"speed in Zone-1 vs speed in Zone-5\")\n",
    "plt.show()"
   ]
  },
  {
   "cell_type": "markdown",
   "id": "408fdabf",
   "metadata": {
    "papermill": {
     "duration": 0.011342,
     "end_time": "2022-06-30T19:37:10.703069",
     "exception": false,
     "start_time": "2022-06-30T19:37:10.691727",
     "status": "completed"
    },
    "tags": []
   },
   "source": [
    "We can see that in the Zone-5 the average speed (the red line) is higher"
   ]
  },
  {
   "cell_type": "markdown",
   "id": "c3c22f86",
   "metadata": {
    "papermill": {
     "duration": 0.010847,
     "end_time": "2022-06-30T19:37:10.725176",
     "exception": false,
     "start_time": "2022-06-30T19:37:10.714329",
     "status": "completed"
    },
    "tags": []
   },
   "source": [
    "# Data engineering"
   ]
  },
  {
   "cell_type": "markdown",
   "id": "1e612857",
   "metadata": {
    "papermill": {
     "duration": 0.010935,
     "end_time": "2022-06-30T19:37:10.747370",
     "exception": false,
     "start_time": "2022-06-30T19:37:10.736435",
     "status": "completed"
    },
    "tags": []
   },
   "source": [
    "Now it's time to clean the data! \n",
    "\n",
    "**The first step** is to fill the empty values (NaN). In order to do that, we use *fillna+bfill* function that fills the empty values with the next value (the one on the right)"
   ]
  },
  {
   "cell_type": "code",
   "execution_count": 8,
   "id": "43c6aeb2",
   "metadata": {
    "execution": {
     "iopub.execute_input": "2022-06-30T19:37:10.773072Z",
     "iopub.status.busy": "2022-06-30T19:37:10.772026Z",
     "iopub.status.idle": "2022-06-30T19:37:10.844656Z",
     "shell.execute_reply": "2022-06-30T19:37:10.843360Z"
    },
    "papermill": {
     "duration": 0.088298,
     "end_time": "2022-06-30T19:37:10.847434",
     "exception": false,
     "start_time": "2022-06-30T19:37:10.759136",
     "status": "completed"
    },
    "tags": []
   },
   "outputs": [],
   "source": [
    "#here we substitute the na \n",
    "train=train.fillna(method='bfill')\n",
    "test=test.fillna(method='bfill')\n",
    "\n",
    "\n",
    "train_X=train.drop([\"id\",\"y\"],axis=1)\n",
    "train_Y=train[\"y\"]\n",
    "test=test.drop([\"id\"],axis=1)"
   ]
  },
  {
   "cell_type": "markdown",
   "id": "0eca3190",
   "metadata": {
    "papermill": {
     "duration": 0.011048,
     "end_time": "2022-06-30T19:37:10.869891",
     "exception": false,
     "start_time": "2022-06-30T19:37:10.858843",
     "status": "completed"
    },
    "tags": []
   },
   "source": [
    "**First problem**: the column *month* contains unordered values. To keep this data without wasting them, we generate 12 columns (Jan,Feb,...,Dec) with binary values (0,1). \n",
    "\n",
    "i.e. if a run has been registered on May, its value *May* will be 1, and the other months will be 0."
   ]
  },
  {
   "cell_type": "code",
   "execution_count": 9,
   "id": "166ac5c3",
   "metadata": {
    "execution": {
     "iopub.execute_input": "2022-06-30T19:37:10.896068Z",
     "iopub.status.busy": "2022-06-30T19:37:10.895005Z",
     "iopub.status.idle": "2022-06-30T19:37:10.956903Z",
     "shell.execute_reply": "2022-06-30T19:37:10.955195Z"
    },
    "papermill": {
     "duration": 0.077652,
     "end_time": "2022-06-30T19:37:10.959799",
     "exception": false,
     "start_time": "2022-06-30T19:37:10.882147",
     "status": "completed"
    },
    "tags": []
   },
   "outputs": [
    {
     "name": "stdout",
     "output_type": "stream",
     "text": [
      "(12997, 257)\n",
      "(6995, 257)\n"
     ]
    }
   ],
   "source": [
    "#here we transform the categorical features\n",
    "train_X=pd.get_dummies(train_X)\n",
    "test=pd.get_dummies(test)\n",
    "\n",
    "#let's check the dimension\n",
    "print(train_X.shape)\n",
    "print(test.shape)"
   ]
  },
  {
   "cell_type": "markdown",
   "id": "39a297ba",
   "metadata": {
    "papermill": {
     "duration": 0.010991,
     "end_time": "2022-06-30T19:37:10.982635",
     "exception": false,
     "start_time": "2022-06-30T19:37:10.971644",
     "status": "completed"
    },
    "tags": []
   },
   "source": [
    "**Standardization of the data:** we standardize the data in order to obtain faster and cleaner predictions.\n",
    "    \n",
    "We use StandardScaler function that standardizes the data in the following way:\n",
    "\n",
    "$$x_i^{stand} = \\frac{x_i-\\mu}{\\sigma}$$"
   ]
  },
  {
   "cell_type": "code",
   "execution_count": 10,
   "id": "24ec77c2",
   "metadata": {
    "execution": {
     "iopub.execute_input": "2022-06-30T19:37:11.007297Z",
     "iopub.status.busy": "2022-06-30T19:37:11.006874Z",
     "iopub.status.idle": "2022-06-30T19:37:12.434474Z",
     "shell.execute_reply": "2022-06-30T19:37:12.433411Z"
    },
    "papermill": {
     "duration": 1.443095,
     "end_time": "2022-06-30T19:37:12.437159",
     "exception": false,
     "start_time": "2022-06-30T19:37:10.994064",
     "status": "completed"
    },
    "tags": []
   },
   "outputs": [],
   "source": [
    "#stardandization of the data\n",
    "for col in range(3,244):\n",
    "    scaler=StandardScaler()\n",
    "    train_X.iloc[:,col]=scaler.fit_transform(np.array(train_X.iloc[:,col]).reshape(-1,1))\n",
    "for col in range(3,244):\n",
    "    \n",
    "    scaler=StandardScaler()\n",
    "    test.iloc[:,col]=scaler.fit_transform(np.array(test.iloc[:,col]).reshape(-1,1))"
   ]
  },
  {
   "cell_type": "markdown",
   "id": "6968ccf8",
   "metadata": {
    "papermill": {
     "duration": 0.011116,
     "end_time": "2022-06-30T19:37:12.459671",
     "exception": false,
     "start_time": "2022-06-30T19:37:12.448555",
     "status": "completed"
    },
    "tags": []
   },
   "source": [
    "# Predictions"
   ]
  },
  {
   "cell_type": "markdown",
   "id": "48482ce1",
   "metadata": {
    "papermill": {
     "duration": 0.01146,
     "end_time": "2022-06-30T19:37:12.483054",
     "exception": false,
     "start_time": "2022-06-30T19:37:12.471594",
     "status": "completed"
    },
    "tags": []
   },
   "source": [
    "### The Model\n",
    "After trying different approaches, the best model we found is the **Histogram Gradient Boosting Classifier**. \n",
    "\n",
    "We decided to try this algorithm because it is likely to perform well as GradientBoosting but is faster to train.\\\n",
    "The latter was a significant benefit because we did a fast GridSearch over many hyperparameters, which usually takes a lot of time.\n",
    "\n",
    "The reason why Histogram Gradient Boosting is faster is because continuos variables are discretized into a fixed number of buckets, therefore the split which occurs in the single decision tree is quicker. \n",
    "\n",
    "The features we used to train the model are all standardized: *speed*, *cadence*, *fractional cadence* and *altitude*, the One-Hot encoded variables for *month* and *day* and the *from-start* variable. \n",
    "The hyperparameters we have chosen for Histogram Gradient Boosting are 200 as *max iterations number*, 0.01 as *learning rate* and min sample leaf as 5.\\\n",
    "With this configuration we have obtained a F1-Score of 0.72813."
   ]
  },
  {
   "cell_type": "code",
   "execution_count": 11,
   "id": "cb699f80",
   "metadata": {
    "execution": {
     "iopub.execute_input": "2022-06-30T19:37:12.508541Z",
     "iopub.status.busy": "2022-06-30T19:37:12.508155Z",
     "iopub.status.idle": "2022-06-30T19:37:12.514220Z",
     "shell.execute_reply": "2022-06-30T19:37:12.512791Z"
    },
    "papermill": {
     "duration": 0.021361,
     "end_time": "2022-06-30T19:37:12.516510",
     "exception": false,
     "start_time": "2022-06-30T19:37:12.495149",
     "status": "completed"
    },
    "tags": []
   },
   "outputs": [],
   "source": [
    "#K-fold implementation: we split the train set into 10 folds\n",
    "kfold=KFold(n_splits=10,shuffle=True,random_state=123)\n",
    "\n",
    "\n",
    "##The GridSearch is commented because it's computationally heavy and we already found the best parameters\n",
    "##Chosen parameters\n",
    "#steps = [('hgb', HistGradientBoostingClassifier(random_state=123))]  \n",
    "#pipeline = Pipeline(steps)  \n",
    "#parameters = {'hgb__learning_rate':[0.01,0.1],'hgb__min_samples_leaf':[5],\n",
    "#             \"hgb__max_iter\":[200]}\n",
    "\n",
    "#Time for the GridSearch\n",
    "#cv = GridSearchCV(pipeline, param_grid=parameters,cv=kfold,scoring=\"f1_macro\")  \n",
    "#cv.fit(train_X, train_Y)  "
   ]
  },
  {
   "cell_type": "code",
   "execution_count": 12,
   "id": "743d9299",
   "metadata": {
    "execution": {
     "iopub.execute_input": "2022-06-30T19:37:12.541533Z",
     "iopub.status.busy": "2022-06-30T19:37:12.541067Z",
     "iopub.status.idle": "2022-06-30T19:37:12.546004Z",
     "shell.execute_reply": "2022-06-30T19:37:12.544740Z"
    },
    "papermill": {
     "duration": 0.02012,
     "end_time": "2022-06-30T19:37:12.548371",
     "exception": false,
     "start_time": "2022-06-30T19:37:12.528251",
     "status": "completed"
    },
    "tags": []
   },
   "outputs": [],
   "source": [
    "#best parameters\n",
    "#print(cv.best_params_)"
   ]
  },
  {
   "cell_type": "code",
   "execution_count": 13,
   "id": "f29b895d",
   "metadata": {
    "execution": {
     "iopub.execute_input": "2022-06-30T19:37:12.573910Z",
     "iopub.status.busy": "2022-06-30T19:37:12.572734Z",
     "iopub.status.idle": "2022-06-30T19:47:21.498076Z",
     "shell.execute_reply": "2022-06-30T19:47:21.496644Z"
    },
    "papermill": {
     "duration": 608.951684,
     "end_time": "2022-06-30T19:47:21.511720",
     "exception": false,
     "start_time": "2022-06-30T19:37:12.560036",
     "status": "completed"
    },
    "tags": []
   },
   "outputs": [
    {
     "name": "stdout",
     "output_type": "stream",
     "text": [
      "0.5617360539988905\n"
     ]
    }
   ],
   "source": [
    "#Application of the Algorithm\n",
    "hgb=HistGradientBoostingClassifier(random_state=123, learning_rate=0.01, min_samples_leaf=5, max_iter=400 )\n",
    "scores=cross_val_score(hgb,train_X,train_Y,scoring=\"f1_macro\",cv=kfold)\n",
    "print(np.mean(scores))"
   ]
  },
  {
   "cell_type": "code",
   "execution_count": 14,
   "id": "7f296b27",
   "metadata": {
    "execution": {
     "iopub.execute_input": "2022-06-30T19:47:21.541689Z",
     "iopub.status.busy": "2022-06-30T19:47:21.541216Z",
     "iopub.status.idle": "2022-06-30T19:47:21.550331Z",
     "shell.execute_reply": "2022-06-30T19:47:21.548985Z"
    },
    "papermill": {
     "duration": 0.02928,
     "end_time": "2022-06-30T19:47:21.554150",
     "exception": false,
     "start_time": "2022-06-30T19:47:21.524870",
     "status": "completed"
    },
    "tags": []
   },
   "outputs": [
    {
     "data": {
      "text/plain": [
       "array([0.5731521 , 0.5982306 , 0.54365917, 0.6302297 , 0.47973079,\n",
       "       0.59737294, 0.5016504 , 0.49795483, 0.58775524, 0.60762476])"
      ]
     },
     "execution_count": 14,
     "metadata": {},
     "output_type": "execute_result"
    }
   ],
   "source": [
    "scores"
   ]
  },
  {
   "cell_type": "markdown",
   "id": "93668a84",
   "metadata": {
    "papermill": {
     "duration": 0.01699,
     "end_time": "2022-06-30T19:47:21.584286",
     "exception": false,
     "start_time": "2022-06-30T19:47:21.567296",
     "status": "completed"
    },
    "tags": []
   },
   "source": [
    "And now a quick last review to our train labels and predicted labels: in fact, we suppose that the distribution of the train labels and predictions is similar.\\\n",
    "So we expect that a good prediction gives us similar histograms to the train's."
   ]
  },
  {
   "cell_type": "code",
   "execution_count": 15,
   "id": "24b6f6e1",
   "metadata": {
    "execution": {
     "iopub.execute_input": "2022-06-30T19:47:21.619982Z",
     "iopub.status.busy": "2022-06-30T19:47:21.619082Z",
     "iopub.status.idle": "2022-06-30T19:48:25.659789Z",
     "shell.execute_reply": "2022-06-30T19:48:25.657973Z"
    },
    "papermill": {
     "duration": 64.063059,
     "end_time": "2022-06-30T19:48:25.664813",
     "exception": false,
     "start_time": "2022-06-30T19:47:21.601754",
     "status": "completed"
    },
    "tags": []
   },
   "outputs": [],
   "source": [
    "hgb.fit(train_X,train_Y)\n",
    "scores=hgb.predict(test)\n",
    "results=pd.DataFrame()\n",
    "\n",
    "test1=pd.read_csv(\"/kaggle/input/statistical-learning-sapienza-spring-2022/test.csv\")\n",
    "results[\"id\"]=test1[\"id\"]\n",
    "results[\"target\"]=scores"
   ]
  },
  {
   "cell_type": "code",
   "execution_count": 16,
   "id": "879fed85",
   "metadata": {
    "execution": {
     "iopub.execute_input": "2022-06-30T19:48:25.699023Z",
     "iopub.status.busy": "2022-06-30T19:48:25.698217Z",
     "iopub.status.idle": "2022-06-30T19:48:25.911713Z",
     "shell.execute_reply": "2022-06-30T19:48:25.909950Z"
    },
    "papermill": {
     "duration": 0.235906,
     "end_time": "2022-06-30T19:48:25.915723",
     "exception": false,
     "start_time": "2022-06-30T19:48:25.679817",
     "status": "completed"
    },
    "tags": []
   },
   "outputs": [
    {
     "data": {
      "image/png": "[encoded data removed]",
      "text/plain": [
       "<Figure size 432x288 with 1 Axes>"
      ]
     },
     "metadata": {
      "needs_background": "light"
     },
     "output_type": "display_data"
    }
   ],
   "source": [
    "plt.hist(train_Y, density = True, color = 'orange')\n",
    "plt.grid( linestyle = '--', linewidth = 0.5)\n",
    "plt.title(\"Distribution of the Hearth Zones in the train set\")\n",
    "plt.xlabel(\"Hearth Zones\")\n",
    "plt.ylabel(\"Frequencies\")\n",
    "\n",
    "plt.show()"
   ]
  },
  {
   "cell_type": "code",
   "execution_count": 17,
   "id": "ff3d3fa6",
   "metadata": {
    "execution": {
     "iopub.execute_input": "2022-06-30T19:48:25.954028Z",
     "iopub.status.busy": "2022-06-30T19:48:25.952959Z",
     "iopub.status.idle": "2022-06-30T19:48:26.180781Z",
     "shell.execute_reply": "2022-06-30T19:48:26.179534Z"
    },
    "papermill": {
     "duration": 0.245693,
     "end_time": "2022-06-30T19:48:26.183576",
     "exception": false,
     "start_time": "2022-06-30T19:48:25.937883",
     "status": "completed"
    },
    "tags": []
   },
   "outputs": [
    {
     "data": {
      "image/png": "[encoded data removed]",
      "text/plain": [
       "<Figure size 432x288 with 1 Axes>"
      ]
     },
     "metadata": {
      "needs_background": "light"
     },
     "output_type": "display_data"
    }
   ],
   "source": [
    "plt.hist(scores, density = True, color = 'orange')\n",
    "plt.grid( linestyle = '--', linewidth = 0.5)\n",
    "plt.title(\"Distribution of predictions for the Hearth Zones\")\n",
    "plt.xlabel(\"Hearth Zones\")\n",
    "plt.ylabel(\"Frequencies\")\n",
    "\n",
    "plt.show()"
   ]
  },
  {
   "cell_type": "markdown",
   "id": "efced876",
   "metadata": {
    "papermill": {
     "duration": 0.012041,
     "end_time": "2022-06-30T19:48:26.207960",
     "exception": false,
     "start_time": "2022-06-30T19:48:26.195919",
     "status": "completed"
    },
    "tags": []
   },
   "source": [
    "Ok, the frequencies of train-labels and predictions look similar! we can submit it\n",
    "\n",
    "And... last but not least... Let's save the predictions"
   ]
  },
  {
   "cell_type": "code",
   "execution_count": 18,
   "id": "dba03266",
   "metadata": {
    "execution": {
     "iopub.execute_input": "2022-06-30T19:48:26.235680Z",
     "iopub.status.busy": "2022-06-30T19:48:26.234554Z",
     "iopub.status.idle": "2022-06-30T19:48:26.256416Z",
     "shell.execute_reply": "2022-06-30T19:48:26.255537Z"
    },
    "papermill": {
     "duration": 0.038379,
     "end_time": "2022-06-30T19:48:26.258941",
     "exception": false,
     "start_time": "2022-06-30T19:48:26.220562",
     "status": "completed"
    },
    "tags": []
   },
   "outputs": [],
   "source": [
    "results.to_csv(\"hgb_200_001_2.csv\",index=False)"
   ]
  }
 ],
 "metadata": {
  "kernelspec": {
   "display_name": "Python 3",
   "language": "python",
   "name": "python3"
  },
  "language_info": {
   "codemirror_mode": {
    "name": "ipython",
    "version": 3
   },
   "file_extension": ".py",
   "mimetype": "text/x-python",
   "name": "python",
   "nbconvert_exporter": "python",
   "pygments_lexer": "ipython3",
   "version": "3.8.8"
  },
  "papermill": {
   "default_parameters": {},
   "duration": 693.511501,
   "end_time": "2022-06-30T19:48:27.095238",
   "environment_variables": {},
   "exception": null,
   "input_path": "__notebook__.ipynb",
   "output_path": "__notebook__.ipynb",
   "parameters": {},
   "start_time": "2022-06-30T19:36:53.583737",
   "version": "2.3.4"
  }
 },
 "nbformat": 4,
 "nbformat_minor": 5
}
